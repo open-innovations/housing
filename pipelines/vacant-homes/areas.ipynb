{
 "cells": [
  {
   "cell_type": "code",
   "execution_count": 1,
   "metadata": {},
   "outputs": [],
   "source": [
    "import json\n",
    "# import requests\n",
    "import pandas as pd\n",
    "import numpy as np\n",
    "import os\n",
    "os.chdir('../..')\n",
    "# URL = \"https://open-innovations.github.io/council-website-emissions/data/index.json\""
   ]
  },
  {
   "cell_type": "markdown",
   "metadata": {},
   "source": [
    "Work out which places are active and which are inactive. Assume anything with data in the 'Value' column for the most recent year's data is active, otherwise it is no longer used."
   ]
  },
  {
   "cell_type": "code",
   "execution_count": 2,
   "metadata": {},
   "outputs": [],
   "source": [
    "data = pd.read_csv('data/vacant-homes/AllCombined_Cleaned_2024_update.csv')\n",
    "latest_year = data.Year.max()\n",
    "\n",
    "my_dict = data.loc[(data['Measure']=='Dwellings') & (data['Value'].notna())]\n",
    "my_group = my_dict.groupby(['AreaCode'])\n",
    "latest_years = my_group.Year.max()\n",
    "names = my_group.AreaName.last().str.strip()"
   ]
  },
  {
   "cell_type": "code",
   "execution_count": 3,
   "metadata": {},
   "outputs": [],
   "source": [
    "d = pd.DataFrame(data={'lastPublished': latest_years, 'active': latest_years == latest_year, 'name': names})"
   ]
  },
  {
   "cell_type": "markdown",
   "metadata": {},
   "source": [
    "Write this out to a JSON file to power site generation."
   ]
  },
  {
   "cell_type": "code",
   "execution_count": 4,
   "metadata": {},
   "outputs": [],
   "source": [
    "d.to_json('src/visualisations/vacant-homes/_data/areas.json',orient='index', indent=4)"
   ]
  }
 ],
 "metadata": {
  "kernelspec": {
   "display_name": "housing-2Roxq_cV",
   "language": "python",
   "name": "python3"
  },
  "language_info": {
   "codemirror_mode": {
    "name": "ipython",
    "version": 3
   },
   "file_extension": ".py",
   "mimetype": "text/x-python",
   "name": "python",
   "nbconvert_exporter": "python",
   "pygments_lexer": "ipython3",
   "version": "3.12.4"
  }
 },
 "nbformat": 4,
 "nbformat_minor": 2
}
