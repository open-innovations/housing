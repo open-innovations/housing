{
 "cells": [
  {
   "cell_type": "code",
   "execution_count": 1,
   "metadata": {},
   "outputs": [],
   "source": [
    "import json\n",
    "# import requests\n",
    "import pandas as pd\n",
    "import numpy as np\n",
    "import os\n",
    "os.chdir('../..')\n",
    "# URL = \"https://open-innovations.github.io/council-website-emissions/data/index.json\""
   ]
  },
  {
   "cell_type": "markdown",
   "metadata": {},
   "source": [
    "Work out which places are active and which are inactive. Assume anything with data in the 'Value' column for the most recent year's data is active, otherwise it is no longer used."
   ]
  },
  {
   "cell_type": "code",
   "execution_count": 2,
   "metadata": {},
   "outputs": [],
   "source": [
    "data = pd.read_csv('data/vacant-homes/AllCombined_Cleaned_2024.csv')\n",
    "latest_year = data.Year.max()\n",
    "\n",
    "dwellings_slice = data.loc[(data['Measure']=='Dwellings') & (data['Value'].notna())]\n",
    "dwellings_group = dwellings_slice.groupby(['AreaCode'])\n",
    "dwellings_latest_years = dwellings_group.Year.max()\n",
    "dwellings_names = dwellings_group.AreaName.last().str.strip()"
   ]
  },
  {
   "cell_type": "code",
   "execution_count": 3,
   "metadata": {},
   "outputs": [],
   "source": [
    "vacants_slice = data.loc[(data['Measure']=='AllVacants') & (data['Value'].notna())]\n",
    "vacants_group = vacants_slice.groupby(['AreaCode'])\n",
    "vacants_latest_years = vacants_group.Year.max()\n",
    "codes_not_in_dwellings = []\n",
    "for code in vacants_latest_years.index.unique():\n",
    "    if code not in dwellings_latest_years.index.unique():\n",
    "        codes_not_in_dwellings.append(code)\n",
    "vacants_latest_years.drop(index=codes_not_in_dwellings, inplace=True)"
   ]
  },
  {
   "cell_type": "code",
   "execution_count": 4,
   "metadata": {},
   "outputs": [],
   "source": [
    "d = pd.DataFrame(data={'dwellingsLastPublished': dwellings_latest_years, 'vacantsLastPublished': vacants_latest_years,'active': dwellings_latest_years == latest_year, 'name': dwellings_names})"
   ]
  },
  {
   "cell_type": "code",
   "execution_count": 5,
   "metadata": {},
   "outputs": [
    {
     "data": {
      "text/html": [
       "<div>\n",
       "<style scoped>\n",
       "    .dataframe tbody tr th:only-of-type {\n",
       "        vertical-align: middle;\n",
       "    }\n",
       "\n",
       "    .dataframe tbody tr th {\n",
       "        vertical-align: top;\n",
       "    }\n",
       "\n",
       "    .dataframe thead th {\n",
       "        text-align: right;\n",
       "    }\n",
       "</style>\n",
       "<table border=\"1\" class=\"dataframe\">\n",
       "  <thead>\n",
       "    <tr style=\"text-align: right;\">\n",
       "      <th></th>\n",
       "      <th>dwellingsLastPublished</th>\n",
       "      <th>vacantsLastPublished</th>\n",
       "      <th>active</th>\n",
       "      <th>name</th>\n",
       "    </tr>\n",
       "    <tr>\n",
       "      <th>AreaCode</th>\n",
       "      <th></th>\n",
       "      <th></th>\n",
       "      <th></th>\n",
       "      <th></th>\n",
       "    </tr>\n",
       "  </thead>\n",
       "  <tbody>\n",
       "    <tr>\n",
       "      <th>E06000001</th>\n",
       "      <td>2023</td>\n",
       "      <td>2023.0</td>\n",
       "      <td>True</td>\n",
       "      <td>Hartlepool UA</td>\n",
       "    </tr>\n",
       "    <tr>\n",
       "      <th>E06000002</th>\n",
       "      <td>2023</td>\n",
       "      <td>2023.0</td>\n",
       "      <td>True</td>\n",
       "      <td>Middlesbrough UA</td>\n",
       "    </tr>\n",
       "    <tr>\n",
       "      <th>E06000003</th>\n",
       "      <td>2023</td>\n",
       "      <td>2023.0</td>\n",
       "      <td>True</td>\n",
       "      <td>Redcar and Cleveland UA</td>\n",
       "    </tr>\n",
       "    <tr>\n",
       "      <th>E06000004</th>\n",
       "      <td>2023</td>\n",
       "      <td>2023.0</td>\n",
       "      <td>True</td>\n",
       "      <td>Stockton-on-Tees UA</td>\n",
       "    </tr>\n",
       "    <tr>\n",
       "      <th>E06000005</th>\n",
       "      <td>2023</td>\n",
       "      <td>2023.0</td>\n",
       "      <td>True</td>\n",
       "      <td>Darlington UA</td>\n",
       "    </tr>\n",
       "    <tr>\n",
       "      <th>...</th>\n",
       "      <td>...</td>\n",
       "      <td>...</td>\n",
       "      <td>...</td>\n",
       "      <td>...</td>\n",
       "    </tr>\n",
       "    <tr>\n",
       "      <th>E12000006</th>\n",
       "      <td>2023</td>\n",
       "      <td>2023.0</td>\n",
       "      <td>True</td>\n",
       "      <td>East of England</td>\n",
       "    </tr>\n",
       "    <tr>\n",
       "      <th>E12000007</th>\n",
       "      <td>2023</td>\n",
       "      <td>2023.0</td>\n",
       "      <td>True</td>\n",
       "      <td>London</td>\n",
       "    </tr>\n",
       "    <tr>\n",
       "      <th>E12000008</th>\n",
       "      <td>2023</td>\n",
       "      <td>2023.0</td>\n",
       "      <td>True</td>\n",
       "      <td>South East</td>\n",
       "    </tr>\n",
       "    <tr>\n",
       "      <th>E12000009</th>\n",
       "      <td>2023</td>\n",
       "      <td>2023.0</td>\n",
       "      <td>True</td>\n",
       "      <td>South West</td>\n",
       "    </tr>\n",
       "    <tr>\n",
       "      <th>E92000001</th>\n",
       "      <td>2023</td>\n",
       "      <td>2023.0</td>\n",
       "      <td>True</td>\n",
       "      <td>England</td>\n",
       "    </tr>\n",
       "  </tbody>\n",
       "</table>\n",
       "<p>381 rows × 4 columns</p>\n",
       "</div>"
      ],
      "text/plain": [
       "           dwellingsLastPublished  vacantsLastPublished  active  \\\n",
       "AreaCode                                                          \n",
       "E06000001                    2023                2023.0    True   \n",
       "E06000002                    2023                2023.0    True   \n",
       "E06000003                    2023                2023.0    True   \n",
       "E06000004                    2023                2023.0    True   \n",
       "E06000005                    2023                2023.0    True   \n",
       "...                           ...                   ...     ...   \n",
       "E12000006                    2023                2023.0    True   \n",
       "E12000007                    2023                2023.0    True   \n",
       "E12000008                    2023                2023.0    True   \n",
       "E12000009                    2023                2023.0    True   \n",
       "E92000001                    2023                2023.0    True   \n",
       "\n",
       "                              name  \n",
       "AreaCode                            \n",
       "E06000001            Hartlepool UA  \n",
       "E06000002         Middlesbrough UA  \n",
       "E06000003  Redcar and Cleveland UA  \n",
       "E06000004      Stockton-on-Tees UA  \n",
       "E06000005            Darlington UA  \n",
       "...                            ...  \n",
       "E12000006          East of England  \n",
       "E12000007                   London  \n",
       "E12000008               South East  \n",
       "E12000009               South West  \n",
       "E92000001                  England  \n",
       "\n",
       "[381 rows x 4 columns]"
      ]
     },
     "execution_count": 5,
     "metadata": {},
     "output_type": "execute_result"
    }
   ],
   "source": [
    "d.dropna()"
   ]
  },
  {
   "cell_type": "markdown",
   "metadata": {},
   "source": [
    "Write this out to a JSON file to power site generation."
   ]
  },
  {
   "cell_type": "code",
   "execution_count": 6,
   "metadata": {},
   "outputs": [],
   "source": [
    "d.to_json('src/visualisations/vacant-homes/_data/areas.json',orient='index', indent=4)"
   ]
  }
 ],
 "metadata": {
  "kernelspec": {
   "display_name": "housing-2Roxq_cV",
   "language": "python",
   "name": "python3"
  },
  "language_info": {
   "codemirror_mode": {
    "name": "ipython",
    "version": 3
   },
   "file_extension": ".py",
   "mimetype": "text/x-python",
   "name": "python",
   "nbconvert_exporter": "python",
   "pygments_lexer": "ipython3",
   "version": "3.12.4"
  }
 },
 "nbformat": 4,
 "nbformat_minor": 2
}
