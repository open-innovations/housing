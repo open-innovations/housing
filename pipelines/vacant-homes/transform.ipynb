{
 "cells": [
  {
   "cell_type": "code",
   "execution_count": null,
   "metadata": {},
   "outputs": [],
   "source": [
    "from pathlib import Path\n",
    "import pandas as pd\n",
    "import numpy as np\n",
    "\n",
    "ROOT = Path('../..')\n",
    "ROOT.resolve()"
   ]
  },
  {
   "cell_type": "code",
   "execution_count": null,
   "metadata": {},
   "outputs": [],
   "source": [
    "# Read file, sheet, headder\n",
    "dwelling_stock = pd.read_excel(ROOT / 'raw/vacant-homes/LT_125.ods', engine='odf', sheet_name='LT_125_unrounded', header=5)\n",
    "\n",
    "# Drop unused column\n",
    "dwelling_stock.drop(columns=[\"Notes\"], inplace=True)\n",
    "\n",
    "# Regex pattern (case-insensitive removal of brackets and 'Notes')\n",
    "pattern = r'(?i)\\[.*?\\]|\\bnotes\\b'\n",
    "\n",
    "# Clean column names\n",
    "dwelling_stock.columns = dwelling_stock.columns.str.replace(pattern, '', regex=True).str.strip()\n",
    "\n",
    "# Make a list of dates\n",
    "dates = dwelling_stock.columns.to_list()[2:]\n",
    "\n",
    "# Pivot the dataframe\n",
    "dwelling_stock = dwelling_stock.melt(id_vars=['New ONS code', 'Area'], var_name='date', value_name='Value', value_vars=dates)\n",
    "\n",
    "# Add measure column\n",
    "dwelling_stock['Measure'] = 'Dwellings'\n",
    "\n",
    "# Rename columns\n",
    "dwelling_stock.rename(columns={'New ONS code': 'geography_code', 'Area': 'geography_name'}, inplace=True)\n",
    "\n",
    "# Replace values\n",
    "dwelling_stock.replace({'NORTH EAST': 'North East', \n",
    "                        'NORTH WEST': 'North West', \n",
    "                        'YORKSHIRE AND THE HUMBER': 'Yorkshire and The Humber', \n",
    "                        'EAST MIDLANDS': 'East Midlands', \n",
    "                        'WEST MIDLANDS': 'West Midlands', \n",
    "                        'EAST OF ENGLAND': 'East of England', \n",
    "                        'LONDON': 'London', \n",
    "                        'SOUTH EAST': 'South East',\n",
    "                        'SOUTH WEST': 'South West',\n",
    "                        'ENGLAND': 'England',\n",
    "                        'E11000004': 'E11000007',\n",
    "                        'St. Albans': 'St Albans',\n",
    "                        'St Helens': 'St. Helens',\n",
    "                        'Folkestone and Hythe [note 7]': 'Folkestone and Hythe',\n",
    "                        'St. Edmundsbury': 'St Edmundsbury',\n",
    "                        r\"&\": 'and'}, inplace=True)\n",
    "\n",
    "# Limit dates to after 2004.\n",
    "dwelling_stock = dwelling_stock.loc[dwelling_stock['date'].astype(int) >= 2004]\n",
    "\n",
    "# View table\n",
    "dwelling_stock"
   ]
  },
  {
   "cell_type": "code",
   "execution_count": null,
   "metadata": {},
   "outputs": [],
   "source": [
    "long_term_vacants = pd.read_excel(ROOT / 'raw/vacant-homes/LT_615.ods', engine='odf', sheet_name='All_long_term_vacants', header=2)\n",
    "mapper = {}\n",
    "for col in long_term_vacants.columns.to_list()[2:]:\n",
    "    mapper[col] = col[6:10]\n",
    "long_term_vacants.rename(columns=mapper, inplace=True)\n",
    "dates = long_term_vacants.columns.to_list()[2:]\n",
    "long_term_vacants = long_term_vacants.melt(id_vars=['ONS code', 'Area'], var_name='date', value_name='Value', value_vars=dates)\n",
    "long_term_vacants['Measure'] = 'LongTermVacants'\n",
    "long_term_vacants.rename(columns={'ONS code': 'geography_code', 'Area': 'geography_name'}, inplace=True)\n",
    "long_term_vacants['geography_name'] = long_term_vacants['geography_name'].str.replace(r\"&\", 'and', regex=True)\n",
    "long_term_vacants"
   ]
  },
  {
   "cell_type": "code",
   "execution_count": null,
   "metadata": {},
   "outputs": [],
   "source": [
    "all_vacants = pd.read_excel(ROOT / 'raw/vacant-homes/LT_615.ods', engine='odf', sheet_name='All_vacants', header=2)\n",
    "mapper = {}\n",
    "for col in all_vacants.columns.to_list()[2:]:\n",
    "    mapper[col] = col[6:10]\n",
    "all_vacants.rename(columns=mapper, inplace=True)\n",
    "dates = all_vacants.columns.to_list()[2:]\n",
    "all_vacants = all_vacants.melt(id_vars=['ONS code', 'Area'], var_name='date', value_name='Value', value_vars=dates)\n",
    "all_vacants['Measure'] = 'AllVacants'\n",
    "all_vacants.rename(columns={'ONS code': 'geography_code', 'Area': 'geography_name'}, inplace=True)\n",
    "all_vacants['geography_name'] = all_vacants['geography_name'].str.replace(r\"&\", 'and', regex=True)\n",
    "all_vacants"
   ]
  },
  {
   "cell_type": "code",
   "execution_count": null,
   "metadata": {},
   "outputs": [],
   "source": [
    "projections = pd.read_excel(ROOT / 'raw/household-projection/2018basedhhpsprincipalprojection.xlsx', sheet_name='406', header=4, engine='openpyxl')\n",
    "projections = projections.melt(id_vars=['Area code', 'Area name'], var_name='date', value_vars=projections.columns.to_list()[1:], value_name='Value')\n",
    "projections['Measure'] = 'HouseholdProjection'\n",
    "projections.rename(columns={'Area code': 'geography_code', 'Area name': 'geography_name'}, inplace=True)\n",
    "projections = projections.loc[(projections['date'].astype(int) <= 2023) & (projections['date'].astype(int) >= 2004)]\n",
    "projections"
   ]
  },
  {
   "cell_type": "code",
   "execution_count": null,
   "metadata": {},
   "outputs": [],
   "source": [
    "def fill_new_la_codes(data, old_codes, new_code, new_name):\n",
    "    '''Use the old LADs to backfill data for new LADs'''\n",
    "    # Find the old codes from the data and get a copy\n",
    "    old_codes_data = data[data.geography_code.isin(old_codes)].copy()\n",
    "    # Replace any [x] missing values with NaN\n",
    "    old_codes_data.replace('[x]', np.nan, inplace=True)\n",
    "    # Drop the NA values.\n",
    "    old_codes_data.dropna(inplace=True)\n",
    "    # Group the old codes by date and measure, and sum the 'value' column, then reset the index.\n",
    "    new_code_data = old_codes_data.groupby(['date', 'Measure'])['Value'].sum().reset_index()\n",
    "    # Set the name and code for the new data.\n",
    "    new_code_data[['geography_code', 'geography_name']] = new_code, new_name\n",
    "    # Drop the old codes from the data with a negation (~)\n",
    "    data = data[~data.geography_code.isin(old_codes)]\n",
    "    # Add the new data to the dataframe.\n",
    "    result = pd.concat([data, new_code_data])\n",
    "\n",
    "    return result\n"
   ]
  },
  {
   "cell_type": "code",
   "execution_count": null,
   "metadata": {},
   "outputs": [],
   "source": [
    "combined = pd.concat([dwelling_stock, long_term_vacants, projections, all_vacants])\n",
    "\n",
    "old_codes = [\n",
    "    ['E07000026', 'E07000028', 'E07000029'], \n",
    "    ['E07000163', 'E07000164', 'E07000165', 'E07000166', 'E07000167', 'E07000168', 'E07000169'], \n",
    "    ['E07000187', 'E07000188', 'E07000246', 'E07000189'],\n",
    "    ['E07000027', 'E07000030', 'E07000031']]\n",
    "new_codes = ['E06000063', 'E066000065', 'E06000066', 'E06000064']\n",
    "new_names = ['Cumberland', 'North Yorkshire', 'Somerset', 'Westmorland and Furness']\n",
    "\n",
    "for i, j, k in zip(old_codes, new_codes, new_names):\n",
    "    combined = fill_new_la_codes(combined, i, j, k)"
   ]
  },
  {
   "cell_type": "code",
   "execution_count": null,
   "metadata": {},
   "outputs": [],
   "source": [
    "combined_long = combined.sort_values(by=['geography_code', 'Measure', 'date'])\n",
    "combined_long = combined_long[['geography_code','geography_name','Measure','date','Value']]\n",
    "combined_long['date'] = combined_long['date'].astype(int)\n",
    "combined_long['Value'] = combined_long['Value'].astype(float, errors='ignore').round(0)\n",
    "combined_long.replace('[x]', pd.NA, inplace=True)\n",
    "combined_long.dropna(inplace=True)\n",
    "combined_long['Value'] = combined_long['Value'].round(0).astype(int)\n",
    "\n",
    "combined_long['geography_name'] = combined_long['geography_name'].str.replace('UA', '')\n",
    "combined_long['geography_name'] = combined_long['geography_name'].str.replace(' (Met County)', '')\n",
    "combined_long['geography_name'] = combined_long['geography_name'].str.strip()\n",
    "\n",
    "combined_long.to_csv(ROOT / 'data/vacant-homes/standard/AllCombined_Cleaned_2024.csv', index=False)"
   ]
  },
  {
   "cell_type": "code",
   "execution_count": null,
   "metadata": {},
   "outputs": [],
   "source": [
    "combined_wide = combined_long.pivot(index=[\"geography_code\", \"geography_name\", \"date\"], columns=\"Measure\", values=\"Value\")\n",
    "\n",
    "combined_wide.to_parquet(ROOT / 'data/vacant-homes/site/absolute.parquet')"
   ]
  },
  {
   "cell_type": "code",
   "execution_count": null,
   "metadata": {},
   "outputs": [],
   "source": [
    "combined_wide['LongTermVacants_pct'] = (combined_wide['LongTermVacants'] / combined_wide['Dwellings']).mul(100).round(2)\n",
    "combined_wide['AllVacants_pct'] = (combined_wide['AllVacants'] / combined_wide['Dwellings']).mul(100).round(2)\n",
    "percentages_wide = combined_wide[['LongTermVacants_pct', 'AllVacants_pct']].dropna()\n",
    "percentages_wide.to_parquet(ROOT / 'data/vacant-homes/site/percentages.parquet')"
   ]
  },
  {
   "cell_type": "code",
   "execution_count": null,
   "metadata": {},
   "outputs": [],
   "source": [
    "# percentages_wide.to_csv(ROOT / 'data/vacant-homes/percentages.csv')\n"
   ]
  },
  {
   "cell_type": "code",
   "execution_count": null,
   "metadata": {},
   "outputs": [],
   "source": [
    "most_recent = percentages_wide[percentages_wide.index.get_level_values('date') == 2023]"
   ]
  },
  {
   "cell_type": "code",
   "execution_count": null,
   "metadata": {},
   "outputs": [],
   "source": [
    "ltv = most_recent.copy()\n",
    "for i, row in most_recent.iterrows():\n",
    "    ltv.loc[i, 'title'] = 'Long term vacants'\n",
    "    ltv.loc[i, 'value'] = row['LongTermVacants_pct']\n",
    "    eng_vals = most_recent[most_recent.index.get_level_values('geography_name')=='England']\n",
    "    ltv.loc[i, 'footnote'] = f\"of homes are long term vacant compared to {eng_vals['LongTermVacants_pct'].values[0]}% for all England\"\n",
    "\n",
    "av = ltv.copy()\n",
    "for i, row in av.iterrows():\n",
    "    av.loc[i, 'title'] = 'All vacants'\n",
    "    av.loc[i, 'value'] = row['AllVacants_pct']\n",
    "    eng_vals = most_recent[most_recent.index.get_level_values('geography_name')=='England']\n",
    "    av.loc[i, 'footnote'] = f\"of homes are vacant compared to {eng_vals['AllVacants_pct'].values[0]}% for all England\"\n",
    "\n",
    "av.drop(columns=['LongTermVacants_pct', 'AllVacants_pct'], inplace=True)\n",
    "ltv.drop(columns=['LongTermVacants_pct', 'AllVacants_pct'], inplace=True)\n",
    "ltv.index = ltv.index.droplevel([1, 2])\n",
    "av.index = av.index.droplevel([1, 2])\n",
    "headlines = pd.concat([ltv, av])"
   ]
  },
  {
   "cell_type": "code",
   "execution_count": null,
   "metadata": {},
   "outputs": [],
   "source": [
    "headlines.to_parquet(ROOT / 'data/vacant-homes/site/headlines.parquet')\n",
    "headlines.to_csv(ROOT / 'data/vacant-homes/standard/headlines.csv')"
   ]
  }
 ],
 "metadata": {
  "kernelspec": {
   "display_name": "housing-2Roxq_cV",
   "language": "python",
   "name": "python3"
  },
  "language_info": {
   "codemirror_mode": {
    "name": "ipython",
    "version": 3
   },
   "file_extension": ".py",
   "mimetype": "text/x-python",
   "name": "python",
   "nbconvert_exporter": "python",
   "pygments_lexer": "ipython3",
   "version": "3.12.10"
  }
 },
 "nbformat": 4,
 "nbformat_minor": 2
}
