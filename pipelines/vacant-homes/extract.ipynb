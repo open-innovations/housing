{
 "cells": [
  {
   "cell_type": "code",
   "execution_count": null,
   "metadata": {},
   "outputs": [],
   "source": [
    "import os\n",
    "os.chdir(\"../..\")\n",
    "from pipelines.utils.util import *"
   ]
  },
  {
   "cell_type": "code",
   "execution_count": null,
   "metadata": {},
   "outputs": [],
   "source": [
    "url = \"https://assets.publishing.service.gov.uk/media/664da823f34f9b5a56adcbf2/LT_125.ods\"\n",
    "path = \"raw/vacant-homes\"\n",
    "fname = \"LT_125.ods\"\n",
    "\n",
    "download_file(url, path, fname)"
   ]
  },
  {
   "cell_type": "code",
   "execution_count": null,
   "metadata": {},
   "outputs": [],
   "source": [
    "url = \"https://assets.publishing.service.gov.uk/media/667993085b0d63b556a4b28b/LT_615.ods\"\n",
    "path = \"raw/vacant-homes\"\n",
    "fname = \"LT_615.ods\"\n",
    "\n",
    "download_file(url, path, fname)"
   ]
  },
  {
   "cell_type": "code",
   "execution_count": null,
   "metadata": {},
   "outputs": [],
   "source": [
    "url = \"https://www.ons.gov.uk/file?uri=/peoplepopulationandcommunity/populationandmigration/populationprojections/datasets/householdprojectionsforengland/2018basedprincipalprojection/\"\n",
    "path = \"raw/household-projection\"\n",
    "fname = \"2018basedhhpsprincipalprojection.xlsx\"\n",
    "# \"TODO fix this pipeline\"\n",
    "download_file(url, path, fname)"
   ]
  },
  {
   "cell_type": "code",
   "execution_count": null,
   "metadata": {},
   "outputs": [],
   "source": []
  }
 ],
 "metadata": {
  "kernelspec": {
   "display_name": "housing-2Roxq_cV",
   "language": "python",
   "name": "python3"
  },
  "language_info": {
   "codemirror_mode": {
    "name": "ipython",
    "version": 3
   },
   "file_extension": ".py",
   "mimetype": "text/x-python",
   "name": "python",
   "nbconvert_exporter": "python",
   "pygments_lexer": "ipython3",
   "version": "3.12.10"
  }
 },
 "nbformat": 4,
 "nbformat_minor": 2
}
