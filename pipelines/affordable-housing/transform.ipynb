{
 "cells": [
  {
   "cell_type": "code",
   "execution_count": null,
   "metadata": {},
   "outputs": [],
   "source": [
    "from pathlib import Path\n",
    "import pandas as pd\n",
    "import numpy as np\n",
    "ROOT = Path('../..')\n",
    "ROOT.resolve()"
   ]
  },
  {
   "cell_type": "code",
   "execution_count": null,
   "metadata": {},
   "outputs": [],
   "source": [
    "def fill_new_la_codes(data, old_codes, new_code, new_name):\n",
    "    '''Use the old LADs to backfill data for new LADs'''\n",
    "    # Find the old codes from the data and get a copy\n",
    "    old_codes_data = data[data.geography_code.isin(old_codes)].copy()\n",
    "    # Replace any [x] missing values with NaN\n",
    "    old_codes_data.replace('[x]', np.nan, inplace=True)\n",
    "    # Drop the NA values.\n",
    "    old_codes_data.dropna(inplace=True)\n",
    "    # Group the old codes by date and measure, and sum the 'value' column, then reset the index.\n",
    "    new_code_data = old_codes_data.groupby(['date', 'Measure'])['value'].sum().reset_index()\n",
    "    # Set the name and code for the new data.\n",
    "    new_code_data[['geography_code', 'geography_name']] = new_code, new_name\n",
    "    # Drop the old codes from the data with a negation (~)\n",
    "    data = data[~data.geography_code.isin(old_codes)]\n",
    "    # Add the new data to the dataframe.\n",
    "    result = pd.concat([data, new_code_data])\n",
    "\n",
    "    return result"
   ]
  },
  {
   "cell_type": "code",
   "execution_count": null,
   "metadata": {},
   "outputs": [],
   "source": [
    "data = pd.read_csv(ROOT / 'raw/affordable-homes/affordable_homes_open_data_202324.csv')"
   ]
  },
  {
   "cell_type": "code",
   "execution_count": null,
   "metadata": {},
   "outputs": [],
   "source": [
    "# Remove un-needed columns\n",
    "data.drop(columns=['LA code', 'LA name', 'District name', 'Metropolitan code', 'Metropolitan name', 'Region code', 'Region name', 'LA type 202324'], inplace=True)"
   ]
  },
  {
   "cell_type": "code",
   "execution_count": null,
   "metadata": {},
   "outputs": [],
   "source": [
    "# Rename column\n",
    "data.rename(columns={'LA code 202324': 'geography_code', 'LA name 202324': 'geography_name', 'Year': 'date', 'Tenure': 'Measure', 'Units': 'value'}, inplace=True)"
   ]
  },
  {
   "cell_type": "code",
   "execution_count": null,
   "metadata": {},
   "outputs": [],
   "source": [
    "# We are only interested in completions for now\n",
    "data = data.loc[data.Completions=='Completion']"
   ]
  },
  {
   "cell_type": "code",
   "execution_count": null,
   "metadata": {},
   "outputs": [],
   "source": [
    "# Sum values per year, per local authority, per tenure type\n",
    "local_authority = data.groupby(['geography_code', 'geography_name', 'date', 'Measure']).sum(numeric_only=True).reset_index()\n",
    "\n",
    "old_codes = [\n",
    "    ['E07000026', 'E07000028', 'E07000029'], \n",
    "    ['E07000163', 'E07000164', 'E07000165', 'E07000166', 'E07000167', 'E07000168', 'E07000169'], \n",
    "    ['E07000187', 'E07000188', 'E07000246', 'E07000189'],\n",
    "    ['E07000027', 'E07000030', 'E07000031']]\n",
    "new_codes = ['E06000063', 'E066000065', 'E06000066', 'E06000064']\n",
    "new_names = ['Cumberland', 'North Yorkshire', 'Somerset', 'Westmorland and Furness']\n",
    "\n",
    "for i, j, k in zip(old_codes, new_codes, new_names):\n",
    "    local_authority = fill_new_la_codes(local_authority, i, j, k)\n",
    "\n",
    "local_authority_wide = local_authority.pivot(index=['geography_code', 'geography_name', 'date'], columns='Measure', values='value')\n",
    "\n",
    "# Add a column for all affordable homes, which is the sum of all the tenure types.\n",
    "local_authority_wide['All afforable'] = local_authority_wide.sum(axis=1)"
   ]
  },
  {
   "cell_type": "code",
   "execution_count": null,
   "metadata": {},
   "outputs": [],
   "source": [
    "# Calculate the values for the whole of England\n",
    "all_england = local_authority.groupby(['date', 'Measure']).sum(numeric_only=True).reset_index()\n",
    "\n",
    "# Pivot to wide format\n",
    "all_england_wide = all_england.pivot(index='date', columns='Measure', values='value')\n",
    "\n",
    "# Add a column for all affordable homes, which is the sum of all the tenure types.\n",
    "all_england_wide['All afforable'] = all_england_wide.sum(axis=1)\n",
    "\n",
    "# Add the geo code for England and append it to the index.\n",
    "all_england_wide['geography_code'] = 'E92000001'\n",
    "all_england_wide['geography_name'] = 'England'\n",
    "all_england_wide.set_index(['geography_code', 'geography_name'], append=True, inplace=True)\n",
    "all_england_wide = all_england_wide.reorder_levels(['geography_code', 'geography_name', 'date'])"
   ]
  },
  {
   "cell_type": "code",
   "execution_count": null,
   "metadata": {},
   "outputs": [],
   "source": [
    "# Concatenate the dataframes\n",
    "combined_wide = pd.concat([local_authority_wide, all_england_wide])"
   ]
  },
  {
   "cell_type": "code",
   "execution_count": null,
   "metadata": {},
   "outputs": [],
   "source": [
    "all_england['geography_code'] = 'E92000001'\n",
    "all_england['geography_name'] = 'England'\n",
    "combined_long = pd.concat([local_authority, all_england])"
   ]
  },
  {
   "cell_type": "code",
   "execution_count": null,
   "metadata": {},
   "outputs": [],
   "source": [
    "# Wide file to parquet for the site, csv long file to standard for viewing and metadata. \n",
    "combined_wide.to_parquet(ROOT / 'data/affordable-homes/site/by_tenure.parquet')\n",
    "combined_long.to_csv(ROOT / 'data/affordable-homes/standard/by_tenure.csv', index=False)"
   ]
  },
  {
   "cell_type": "code",
   "execution_count": null,
   "metadata": {},
   "outputs": [],
   "source": [
    "combined_long"
   ]
  },
  {
   "cell_type": "markdown",
   "metadata": {},
   "source": [
    "# TODO \n",
    "Use a lookup to go from LAs to met counties and regions."
   ]
  }
 ],
 "metadata": {
  "kernelspec": {
   "display_name": "housing-2Roxq_cV",
   "language": "python",
   "name": "python3"
  },
  "language_info": {
   "codemirror_mode": {
    "name": "ipython",
    "version": 3
   },
   "file_extension": ".py",
   "mimetype": "text/x-python",
   "name": "python",
   "nbconvert_exporter": "python",
   "pygments_lexer": "ipython3",
   "version": "3.12.10"
  }
 },
 "nbformat": 4,
 "nbformat_minor": 2
}
