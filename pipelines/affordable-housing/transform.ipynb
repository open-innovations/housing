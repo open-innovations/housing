{
 "cells": [
  {
   "cell_type": "code",
   "execution_count": 1,
   "metadata": {},
   "outputs": [],
   "source": [
    "import os\n",
    "import pandas as pd\n",
    "os.chdir('../..')"
   ]
  },
  {
   "cell_type": "code",
   "execution_count": 2,
   "metadata": {},
   "outputs": [],
   "source": [
    "d = pd.read_excel('raw/affordable-homes/live_table_1000.ods', engine='odf', sheet_name='Live_Table_1000', header=2, nrows=18, index_col='Tenure')"
   ]
  },
  {
   "cell_type": "code",
   "execution_count": 3,
   "metadata": {},
   "outputs": [],
   "source": [
    "# Drop NA values\n",
    "d.dropna(axis=0, inplace=True)\n",
    "\n",
    "# Transpose the dataframe\n",
    "d = d.transpose()"
   ]
  },
  {
   "cell_type": "code",
   "execution_count": 4,
   "metadata": {},
   "outputs": [
    {
     "name": "stderr",
     "output_type": "stream",
     "text": [
      "/var/folders/5k/p_091y6n6rscp__0p77_ynv80000gn/T/ipykernel_3192/4186655345.py:1: FutureWarning: Downcasting behavior in `replace` is deprecated and will be removed in a future version. To retain the old behavior, explicitly call `result.infer_objects(copy=False)`. To opt-in to the future behavior, set `pd.set_option('future.no_silent_downcasting', True)`\n",
      "  d = d.replace('..','').astype(str)\n"
     ]
    }
   ],
   "source": [
    "d = d.replace('..','').astype(str)\n",
    "\n",
    "# Strip whitespace from column names\n",
    "d.columns = d.columns.str.strip()\n",
    "\n",
    "# Remove any trailing digits from column names\n",
    "d.columns = d.columns.str.replace(r'\\d$', '', regex=True)\n",
    "\n",
    "# Set the index name\n",
    "d.index.name = 'date'"
   ]
  },
  {
   "cell_type": "code",
   "execution_count": 5,
   "metadata": {},
   "outputs": [],
   "source": [
    "# Write to file\n",
    "d.to_csv('data/affordable-homes/by_tenure_england.csv')"
   ]
  }
 ],
 "metadata": {
  "kernelspec": {
   "display_name": "housing-2Roxq_cV",
   "language": "python",
   "name": "python3"
  },
  "language_info": {
   "codemirror_mode": {
    "name": "ipython",
    "version": 3
   },
   "file_extension": ".py",
   "mimetype": "text/x-python",
   "name": "python",
   "nbconvert_exporter": "python",
   "pygments_lexer": "ipython3",
   "version": "3.12.4"
  }
 },
 "nbformat": 4,
 "nbformat_minor": 2
}
