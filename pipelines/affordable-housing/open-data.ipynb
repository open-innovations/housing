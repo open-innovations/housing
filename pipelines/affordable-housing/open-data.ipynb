{
 "cells": [
  {
   "cell_type": "code",
   "execution_count": 1,
   "metadata": {},
   "outputs": [],
   "source": [
    "import os\n",
    "import pandas as pd\n",
    "os.chdir(\"../..\")"
   ]
  },
  {
   "cell_type": "code",
   "execution_count": 2,
   "metadata": {},
   "outputs": [],
   "source": [
    "data = pd.read_csv('raw/affordable-homes/affordable_homes_open_data_202223')"
   ]
  },
  {
   "cell_type": "code",
   "execution_count": 3,
   "metadata": {},
   "outputs": [],
   "source": [
    "# Remove un-needed columns\n",
    "data.drop(columns=['LA code', 'LA name', 'District name', 'Metropolitan code', 'Metropolitan name', 'Region code', 'Region name', 'LA type 202223'], inplace=True)"
   ]
  },
  {
   "cell_type": "code",
   "execution_count": 4,
   "metadata": {},
   "outputs": [],
   "source": [
    "# Rename column\n",
    "data.rename(columns={'LA code 202223': 'geography_code'}, inplace=True)"
   ]
  },
  {
   "cell_type": "code",
   "execution_count": 5,
   "metadata": {},
   "outputs": [],
   "source": [
    "# We are only interested in completions for now\n",
    "data = data.loc[data.Completions=='Completion']"
   ]
  },
  {
   "cell_type": "code",
   "execution_count": 6,
   "metadata": {},
   "outputs": [],
   "source": [
    "# Sum values per year, per local authority, per tenure type\n",
    "local_authority = data.groupby(['geography_code', 'Year', 'Tenure']).sum(numeric_only=True).reset_index()\n",
    "\n",
    "local_authority_wide = local_authority.pivot(index=['geography_code', 'Year'], columns='Tenure', values='Units')\n",
    "\n",
    "# Add a column for all affordable homes, which is the sum of all the tenure types.\n",
    "local_authority_wide['All afforable'] = local_authority_wide.sum(axis=1)"
   ]
  },
  {
   "cell_type": "code",
   "execution_count": 7,
   "metadata": {},
   "outputs": [],
   "source": [
    "# Calculate the values for the whole of England\n",
    "all_england = local_authority.groupby(['Year', 'Tenure']).sum(numeric_only=True).reset_index()\n",
    "\n",
    "# Pivot to wide format\n",
    "all_england_wide = all_england.pivot(index='Year', columns='Tenure', values='Units')\n",
    "\n",
    "# Add a column for all affordable homes, which is the sum of all the tenure types.\n",
    "all_england_wide['All afforable'] = all_england_wide.sum(axis=1)\n",
    "\n",
    "# Add the geo code for England and append it to the index.\n",
    "all_england_wide['geography_code'] = 'E92000001'\n",
    "all_england_wide.set_index('geography_code', append=True, inplace=True)\n",
    "all_england_wide = all_england_wide.reorder_levels(['geography_code', 'Year'])"
   ]
  },
  {
   "cell_type": "code",
   "execution_count": 8,
   "metadata": {},
   "outputs": [],
   "source": [
    "# Concatenate the dataframes\n",
    "combined = pd.concat([local_authority_wide, all_england_wide])"
   ]
  },
  {
   "cell_type": "code",
   "execution_count": 9,
   "metadata": {},
   "outputs": [],
   "source": [
    "# Write the files to CSV\n",
    "combined.to_csv('data/affordable-homes/by_tenure.csv')\n",
    "# all_england.to_csv('data/affordable-homes/by_tenure_england.csv')"
   ]
  },
  {
   "cell_type": "markdown",
   "metadata": {},
   "source": [
    "# TODO \n",
    "Use a lookup to go from LAs to met counties and regions."
   ]
  }
 ],
 "metadata": {
  "kernelspec": {
   "display_name": "housing-2Roxq_cV",
   "language": "python",
   "name": "python3"
  },
  "language_info": {
   "codemirror_mode": {
    "name": "ipython",
    "version": 3
   },
   "file_extension": ".py",
   "mimetype": "text/x-python",
   "name": "python",
   "nbconvert_exporter": "python",
   "pygments_lexer": "ipython3",
   "version": "3.12.3"
  }
 },
 "nbformat": 4,
 "nbformat_minor": 2
}
