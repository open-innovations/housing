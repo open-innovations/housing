{
 "cells": [
  {
   "cell_type": "code",
   "execution_count": 1,
   "metadata": {},
   "outputs": [
    {
     "data": {
      "text/plain": [
       "PosixPath('/Users/lukestrange/Code/housing')"
      ]
     },
     "execution_count": 1,
     "metadata": {},
     "output_type": "execute_result"
    }
   ],
   "source": [
    "from pathlib import Path\n",
    "import pandas as pd\n",
    "import numpy as np\n",
    "ROOT = Path('../..')\n",
    "ROOT.resolve()"
   ]
  },
  {
   "cell_type": "code",
   "execution_count": 2,
   "metadata": {},
   "outputs": [],
   "source": [
    "def fill_new_la_codes(data, old_codes, new_code, new_name):\n",
    "    '''Use the old LADs to backfill data for new LADs'''\n",
    "    # Find the old codes from the data and get a copy\n",
    "    old_codes_data = data[data.geography_code.isin(old_codes)].copy()\n",
    "    # Replace any [x] missing values with NaN\n",
    "    old_codes_data.replace('[x]', np.nan, inplace=True)\n",
    "    # Drop the NA values.\n",
    "    old_codes_data.dropna(inplace=True)\n",
    "    # Group the old codes by date and measure, and sum the 'value' column, then reset the index.\n",
    "    new_code_data = old_codes_data.groupby(['date', 'Measure'])['value'].sum().reset_index()\n",
    "    # Set the name and code for the new data.\n",
    "    new_code_data[['geography_code', 'geography_name']] = new_code, new_name\n",
    "    # Drop the old codes from the data with a negation (~)\n",
    "    data = data[~data.geography_code.isin(old_codes)]\n",
    "    # Add the new data to the dataframe.\n",
    "    result = pd.concat([data, new_code_data])\n",
    "\n",
    "    return result"
   ]
  },
  {
   "cell_type": "code",
   "execution_count": 3,
   "metadata": {},
   "outputs": [],
   "source": [
    "data = pd.read_csv(ROOT / 'raw/affordable-homes/affordable_homes_open_data_202223')"
   ]
  },
  {
   "cell_type": "code",
   "execution_count": 4,
   "metadata": {},
   "outputs": [],
   "source": [
    "# Remove un-needed columns\n",
    "data.drop(columns=['LA code', 'LA name', 'District name', 'Metropolitan code', 'Metropolitan name', 'Region code', 'Region name', 'LA type 202223'], inplace=True)"
   ]
  },
  {
   "cell_type": "code",
   "execution_count": 5,
   "metadata": {},
   "outputs": [],
   "source": [
    "# Rename column\n",
    "data.rename(columns={'LA code 202223': 'geography_code', 'LA name 202223': 'geography_name', 'Year': 'date', 'Tenure': 'Measure', 'Units': 'value'}, inplace=True)"
   ]
  },
  {
   "cell_type": "code",
   "execution_count": 6,
   "metadata": {},
   "outputs": [],
   "source": [
    "# We are only interested in completions for now\n",
    "data = data.loc[data.Completions=='Completion']"
   ]
  },
  {
   "cell_type": "code",
   "execution_count": 7,
   "metadata": {},
   "outputs": [],
   "source": [
    "# Sum values per year, per local authority, per tenure type\n",
    "local_authority = data.groupby(['geography_code', 'geography_name', 'date', 'Measure']).sum(numeric_only=True).reset_index()\n",
    "\n",
    "old_codes = [\n",
    "    ['E07000026', 'E07000028', 'E07000029'], \n",
    "    ['E07000163', 'E07000164', 'E07000165', 'E07000166', 'E07000167', 'E07000168', 'E07000169'], \n",
    "    ['E07000187', 'E07000188', 'E07000246', 'E07000189'],\n",
    "    ['E07000027', 'E07000030', 'E07000031']]\n",
    "new_codes = ['E06000063', 'E066000065', 'E06000066', 'E06000064']\n",
    "new_names = ['Cumberland', 'North Yorkshire', 'Somerset', 'Westmorland and Furness']\n",
    "\n",
    "for i, j, k in zip(old_codes, new_codes, new_names):\n",
    "    local_authority = fill_new_la_codes(local_authority, i, j, k)\n",
    "\n",
    "local_authority_wide = local_authority.pivot(index=['geography_code', 'geography_name', 'date'], columns='Measure', values='value')\n",
    "\n",
    "# Add a column for all affordable homes, which is the sum of all the tenure types.\n",
    "local_authority_wide['All afforable'] = local_authority_wide.sum(axis=1)"
   ]
  },
  {
   "cell_type": "code",
   "execution_count": 8,
   "metadata": {},
   "outputs": [],
   "source": [
    "# Calculate the values for the whole of England\n",
    "all_england = local_authority.groupby(['date', 'Measure']).sum(numeric_only=True).reset_index()\n",
    "\n",
    "# Pivot to wide format\n",
    "all_england_wide = all_england.pivot(index='date', columns='Measure', values='value')\n",
    "\n",
    "# Add a column for all affordable homes, which is the sum of all the tenure types.\n",
    "all_england_wide['All afforable'] = all_england_wide.sum(axis=1)\n",
    "\n",
    "# Add the geo code for England and append it to the index.\n",
    "all_england_wide['geography_code'] = 'E92000001'\n",
    "all_england_wide['geography_name'] = 'England'\n",
    "all_england_wide.set_index(['geography_code', 'geography_name'], append=True, inplace=True)\n",
    "all_england_wide = all_england_wide.reorder_levels(['geography_code', 'geography_name', 'date'])"
   ]
  },
  {
   "cell_type": "code",
   "execution_count": 9,
   "metadata": {},
   "outputs": [],
   "source": [
    "# Concatenate the dataframes\n",
    "combined_wide = pd.concat([local_authority_wide, all_england_wide])"
   ]
  },
  {
   "cell_type": "code",
   "execution_count": 10,
   "metadata": {},
   "outputs": [],
   "source": [
    "all_england['geography_code'] = 'E92000001'\n",
    "all_england['geography_name'] = 'England'\n",
    "combined_long = pd.concat([local_authority, all_england])"
   ]
  },
  {
   "cell_type": "code",
   "execution_count": 11,
   "metadata": {},
   "outputs": [],
   "source": [
    "# Wide file to parquet for the site, csv long file to standard for viewing and metadata. \n",
    "combined_wide.to_parquet(ROOT / 'data/affordable-homes/site/by_tenure.parquet')\n",
    "combined_long.to_csv(ROOT / 'data/affordable-homes/standard/by_tenure.csv', index=False)"
   ]
  },
  {
   "cell_type": "code",
   "execution_count": 12,
   "metadata": {},
   "outputs": [
    {
     "data": {
      "text/html": [
       "<div>\n",
       "<style scoped>\n",
       "    .dataframe tbody tr th:only-of-type {\n",
       "        vertical-align: middle;\n",
       "    }\n",
       "\n",
       "    .dataframe tbody tr th {\n",
       "        vertical-align: top;\n",
       "    }\n",
       "\n",
       "    .dataframe thead th {\n",
       "        text-align: right;\n",
       "    }\n",
       "</style>\n",
       "<table border=\"1\" class=\"dataframe\">\n",
       "  <thead>\n",
       "    <tr style=\"text-align: right;\">\n",
       "      <th></th>\n",
       "      <th>geography_code</th>\n",
       "      <th>geography_name</th>\n",
       "      <th>date</th>\n",
       "      <th>Measure</th>\n",
       "      <th>value</th>\n",
       "    </tr>\n",
       "  </thead>\n",
       "  <tbody>\n",
       "    <tr>\n",
       "      <th>0</th>\n",
       "      <td>E06000001</td>\n",
       "      <td>Hartlepool</td>\n",
       "      <td>1991-92</td>\n",
       "      <td>Affordable Home Ownership</td>\n",
       "      <td>13</td>\n",
       "    </tr>\n",
       "    <tr>\n",
       "      <th>1</th>\n",
       "      <td>E06000001</td>\n",
       "      <td>Hartlepool</td>\n",
       "      <td>1991-92</td>\n",
       "      <td>Social Rent</td>\n",
       "      <td>134</td>\n",
       "    </tr>\n",
       "    <tr>\n",
       "      <th>2</th>\n",
       "      <td>E06000001</td>\n",
       "      <td>Hartlepool</td>\n",
       "      <td>1992-93</td>\n",
       "      <td>Affordable Home Ownership</td>\n",
       "      <td>29</td>\n",
       "    </tr>\n",
       "    <tr>\n",
       "      <th>3</th>\n",
       "      <td>E06000001</td>\n",
       "      <td>Hartlepool</td>\n",
       "      <td>1992-93</td>\n",
       "      <td>Social Rent</td>\n",
       "      <td>204</td>\n",
       "    </tr>\n",
       "    <tr>\n",
       "      <th>4</th>\n",
       "      <td>E06000001</td>\n",
       "      <td>Hartlepool</td>\n",
       "      <td>1993-94</td>\n",
       "      <td>Affordable Home Ownership</td>\n",
       "      <td>20</td>\n",
       "    </tr>\n",
       "    <tr>\n",
       "      <th>...</th>\n",
       "      <td>...</td>\n",
       "      <td>...</td>\n",
       "      <td>...</td>\n",
       "      <td>...</td>\n",
       "      <td>...</td>\n",
       "    </tr>\n",
       "    <tr>\n",
       "      <th>114</th>\n",
       "      <td>E92000001</td>\n",
       "      <td>England</td>\n",
       "      <td>2022-23</td>\n",
       "      <td>Intermediate Rent</td>\n",
       "      <td>2701</td>\n",
       "    </tr>\n",
       "    <tr>\n",
       "      <th>115</th>\n",
       "      <td>E92000001</td>\n",
       "      <td>England</td>\n",
       "      <td>2022-23</td>\n",
       "      <td>London Affordable Rent</td>\n",
       "      <td>4296</td>\n",
       "    </tr>\n",
       "    <tr>\n",
       "      <th>116</th>\n",
       "      <td>E92000001</td>\n",
       "      <td>England</td>\n",
       "      <td>2022-23</td>\n",
       "      <td>Shared Ownership</td>\n",
       "      <td>20517</td>\n",
       "    </tr>\n",
       "    <tr>\n",
       "      <th>117</th>\n",
       "      <td>E92000001</td>\n",
       "      <td>England</td>\n",
       "      <td>2022-23</td>\n",
       "      <td>Social Rent</td>\n",
       "      <td>9535</td>\n",
       "    </tr>\n",
       "    <tr>\n",
       "      <th>118</th>\n",
       "      <td>E92000001</td>\n",
       "      <td>England</td>\n",
       "      <td>2022-23</td>\n",
       "      <td>Unknown</td>\n",
       "      <td>120</td>\n",
       "    </tr>\n",
       "  </tbody>\n",
       "</table>\n",
       "<p>22610 rows × 5 columns</p>\n",
       "</div>"
      ],
      "text/plain": [
       "    geography_code geography_name     date                    Measure  value\n",
       "0        E06000001     Hartlepool  1991-92  Affordable Home Ownership     13\n",
       "1        E06000001     Hartlepool  1991-92                Social Rent    134\n",
       "2        E06000001     Hartlepool  1992-93  Affordable Home Ownership     29\n",
       "3        E06000001     Hartlepool  1992-93                Social Rent    204\n",
       "4        E06000001     Hartlepool  1993-94  Affordable Home Ownership     20\n",
       "..             ...            ...      ...                        ...    ...\n",
       "114      E92000001        England  2022-23          Intermediate Rent   2701\n",
       "115      E92000001        England  2022-23     London Affordable Rent   4296\n",
       "116      E92000001        England  2022-23           Shared Ownership  20517\n",
       "117      E92000001        England  2022-23                Social Rent   9535\n",
       "118      E92000001        England  2022-23                    Unknown    120\n",
       "\n",
       "[22610 rows x 5 columns]"
      ]
     },
     "execution_count": 12,
     "metadata": {},
     "output_type": "execute_result"
    }
   ],
   "source": [
    "combined_long"
   ]
  },
  {
   "cell_type": "markdown",
   "metadata": {},
   "source": [
    "# TODO \n",
    "Use a lookup to go from LAs to met counties and regions."
   ]
  }
 ],
 "metadata": {
  "kernelspec": {
   "display_name": "Python 3 (ipykernel)",
   "language": "python",
   "name": "python3"
  },
  "language_info": {
   "codemirror_mode": {
    "name": "ipython",
    "version": 3
   },
   "file_extension": ".py",
   "mimetype": "text/x-python",
   "name": "python",
   "nbconvert_exporter": "python",
   "pygments_lexer": "ipython3",
   "version": "3.12.4"
  }
 },
 "nbformat": 4,
 "nbformat_minor": 2
}
