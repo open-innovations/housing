{
 "cells": [
  {
   "cell_type": "code",
   "execution_count": 1,
   "metadata": {},
   "outputs": [
    {
     "data": {
      "text/plain": [
       "PosixPath('/Users/lukestrange/Code/housing')"
      ]
     },
     "execution_count": 1,
     "metadata": {},
     "output_type": "execute_result"
    }
   ],
   "source": [
    "from pathlib import Path\n",
    "import pandas as pd\n",
    "import re\n",
    "ROOT = Path('../..')\n",
    "ROOT.resolve()"
   ]
  },
  {
   "cell_type": "code",
   "execution_count": 2,
   "metadata": {},
   "outputs": [
    {
     "ename": "AttributeError",
     "evalue": "'NoneType' object has no attribute 'group'",
     "output_type": "error",
     "traceback": [
      "\u001b[0;31m---------------------------------------------------------------------------\u001b[0m",
      "\u001b[0;31mAttributeError\u001b[0m                            Traceback (most recent call last)",
      "Cell \u001b[0;32mIn[2], line 20\u001b[0m\n\u001b[1;32m     16\u001b[0m \u001b[38;5;66;03m# Go through each file name in the root directory\u001b[39;00m\n\u001b[1;32m     17\u001b[0m \u001b[38;5;28;01mfor\u001b[39;00m file \u001b[38;5;129;01min\u001b[39;00m files:\n\u001b[1;32m     18\u001b[0m \n\u001b[1;32m     19\u001b[0m     \u001b[38;5;66;03m# Match the date\u001b[39;00m\n\u001b[0;32m---> 20\u001b[0m     date \u001b[38;5;241m=\u001b[39m \u001b[43mre\u001b[49m\u001b[38;5;241;43m.\u001b[39;49m\u001b[43msearch\u001b[49m\u001b[43m(\u001b[49m\u001b[43mpattern\u001b[49m\u001b[43m,\u001b[49m\u001b[43m \u001b[49m\u001b[43mfile\u001b[49m\u001b[43m)\u001b[49m\u001b[38;5;241;43m.\u001b[39;49m\u001b[43mgroup\u001b[49m()\n\u001b[1;32m     21\u001b[0m     \u001b[38;5;28;01mif\u001b[39;00m date:\n\u001b[1;32m     22\u001b[0m         dates\u001b[38;5;241m.\u001b[39mappend(date)\n",
      "\u001b[0;31mAttributeError\u001b[0m: 'NoneType' object has no attribute 'group'"
     ]
    }
   ],
   "source": [
    "# Set the path to the raw data\n",
    "p = Path('../../raw/properties')\n",
    "\n",
    "# Define a pattern to match the year in the filename\n",
    "pattern = r'\\d{4}'\n",
    "columns=['geography_code', 'geography_name']\n",
    "dates = []\n",
    "# Define an empty dataframe to append the results to\n",
    "properties = pd.DataFrame(columns=columns)\n",
    "# Iterate through the proprties directory\n",
    "for root, dirs, files in p.walk():\n",
    "\n",
    "    # Resolve the path\n",
    "    DDIR = Path(root).resolve()\n",
    "\n",
    "    # Go through each file name in the root directory\n",
    "    for file in files:\n",
    "\n",
    "        # Match the date\n",
    "        date = re.search(pattern, file).group()\n",
    "        if date:\n",
    "            dates.append(date)\n",
    "            # Read the csv\n",
    "            d = pd.read_csv(DDIR / file, na_values=['..', '-'])\n",
    "\n",
    "            # Select Local auhtorities, met counties, regions and national values only.\n",
    "            d = d.loc[d['geography'].isin(['NATL','REGL','LAUA','CTYMET'])]\n",
    "\n",
    "            # Slice the frame\n",
    "            d = d[['ecode', 'area_name', 'all_properties']]\n",
    "\n",
    "            # Rename columns \n",
    "            d.rename(columns={'ecode': 'geography_code', 'area_name': 'geography_name', 'all_properties': f'{date}'}, inplace=True)\n",
    "            d = d.melt(id_vars=columns, value_vars=f'{date}', var_name='date')\n",
    "        else:\n",
    "            print('No date found')\n",
    "        # properties = properties.merge(d, on=['geography_code', 'geography_name'], how='outer') \n",
    "        properties = pd.concat([properties, d])"
   ]
  },
  {
   "cell_type": "code",
   "execution_count": 6,
   "metadata": {},
   "outputs": [],
   "source": [
    "# Reorder by date desc\n",
    "properties.sort_values(by='date', inplace=True)\n",
    "\n",
    "# Make geo code the index\n",
    "properties.set_index('geography_code', inplace=True)\n",
    "\n",
    "# Write to parquet\n",
    "properties.to_parquet(ROOT / 'data/properties/site/all_properties.parquet')\n",
    "\n",
    "properties['Measure'] = 'number_of_properties'\n",
    "properties.to_csv(ROOT / 'data/properties/standard/all_properties.csv')"
   ]
  }
 ],
 "metadata": {
  "kernelspec": {
   "display_name": "housing-2Roxq_cV",
   "language": "python",
   "name": "python3"
  },
  "language_info": {
   "codemirror_mode": {
    "name": "ipython",
    "version": 3
   },
   "file_extension": ".py",
   "mimetype": "text/x-python",
   "name": "python",
   "nbconvert_exporter": "python",
   "pygments_lexer": "ipython3",
   "version": "3.12.7"
  }
 },
 "nbformat": 4,
 "nbformat_minor": 2
}
