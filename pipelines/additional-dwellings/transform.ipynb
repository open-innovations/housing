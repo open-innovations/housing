{
 "cells": [
  {
   "cell_type": "code",
   "execution_count": null,
   "metadata": {},
   "outputs": [],
   "source": [
    "from pathlib import Path\n",
    "import pandas as pd\n",
    "ROOT = Path('../..')\n",
    "ROOT.resolve()"
   ]
  },
  {
   "cell_type": "code",
   "execution_count": null,
   "metadata": {},
   "outputs": [],
   "source": [
    "d = pd.read_excel(ROOT / 'raw/additional-dwellings/LT122.ods', engine='odf', sheet_name='LT122', header=3, na_values=['[p]', '[r]', '[x]'])"
   ]
  },
  {
   "cell_type": "code",
   "execution_count": null,
   "metadata": {},
   "outputs": [],
   "source": [
    "import re\n",
    "# Drop all the rows that don't have a current ONS code\n",
    "d = d[~d['CurrentONS code'].isna()]\n",
    "\n",
    "# drop unused columns\n",
    "d.drop(columns=['DCLG code', 'FormerONS code', 'Authority Data'], inplace=True)\n",
    "\n",
    "# Rename geography column code and set as index\n",
    "d.rename(columns={'CurrentONS code': 'geography_code'}, inplace=True)\n",
    "d.set_index('geography_code', inplace=True)\n",
    "\n",
    "# Remove anything that isn't actually a date from the date column titles\n",
    "d.columns = [re.match(r'\\d{4}-\\d{2}', col).group() for col in d.columns]\n",
    "d"
   ]
  },
  {
   "cell_type": "code",
   "execution_count": null,
   "metadata": {},
   "outputs": [],
   "source": [
    "d = d.reset_index().melt(id_vars='geography_code', value_vars=d.columns, var_name='date', value_name='value')"
   ]
  },
  {
   "cell_type": "code",
   "execution_count": null,
   "metadata": {},
   "outputs": [],
   "source": [
    "england_and_regions = pd.read_excel(ROOT / \"raw/additional-dwellings/LT118.ods\", sheet_name='LT118_(unrounded)', header=3, nrows=24)"
   ]
  },
  {
   "cell_type": "code",
   "execution_count": null,
   "metadata": {},
   "outputs": [],
   "source": [
    "england_and_regions.rename(columns={\"Year\": \"date\",\n",
    "                                    \"North East\": \"E12000001\",\n",
    "                                    \"North West\": \"E12000002\",\n",
    "                                    \"Yorkshire and The Humber\": \"E12000003\",\n",
    "                                    \"East Midlands\": \"E12000004\",\n",
    "                                    \"West Midlands\": \"E12000005\",\n",
    "                                    \"East of England\": \"E12000006\",\n",
    "                                    \"London\": \"E12000007\",\n",
    "                                    \"South East\": \"E12000008\",\n",
    "                                    \"South West\": \"E12000009\",\n",
    "                                    \"England\": \"E92000001\"}, inplace=True) # Seems slightly sadistic but the column is not named what it should be.\n",
    "\n",
    "england_and_regions.drop(columns='Components of net housing supply', inplace=True)\n",
    "\n",
    "# Drop a row we don't need\n",
    "# england_and_regions = england_and_regions[england_and_regions.date != 'Total net additional dwellings [note 1]']\n",
    "\n",
    "# Set the date as the index ready to transpose\n",
    "england_and_regions.set_index('date', inplace=True)\n",
    "england_and_regions = england_and_regions.T\n",
    "\n",
    "# Now geography_code is the index so name it correctly\n",
    "england_and_regions.index.rename('geography_code', inplace=True)\n",
    "\n",
    "# Make sure only dates are actually in the date column headings\n",
    "england_and_regions.columns = [re.match(r'\\d{4}-\\d{2}', col).group() for col in england_and_regions.columns]\n",
    "\n",
    "# Unpivot the data\n",
    "england_and_regions = england_and_regions.reset_index().melt(id_vars='geography_code', value_vars=england_and_regions.columns, var_name='date', value_name='value')\n",
    "\n",
    "england_and_regions"
   ]
  },
  {
   "cell_type": "code",
   "execution_count": null,
   "metadata": {},
   "outputs": [],
   "source": [
    "# Concatenate the data\n",
    "combined = pd.concat([d, england_and_regions])\n",
    "# Round the figures\n",
    "combined['value'] = combined['value'].astype(float).round(0)\n",
    "combined"
   ]
  },
  {
   "cell_type": "code",
   "execution_count": null,
   "metadata": {},
   "outputs": [],
   "source": [
    "# Write to parquet\n",
    "combined.to_parquet(ROOT / 'data/additional-dwellings/parquet/by_local_authority.parquet', index=False)\n",
    "combined['Measure'] = 'net_additional_dwellings'\n",
    "combined.to_csv(ROOT / 'data/additional-dwellings/csv/by_local_authority.csv', index=False)"
   ]
  }
 ],
 "metadata": {
  "kernelspec": {
   "display_name": "housing-2Roxq_cV",
   "language": "python",
   "name": "python3"
  },
  "language_info": {
   "codemirror_mode": {
    "name": "ipython",
    "version": 3
   },
   "file_extension": ".py",
   "mimetype": "text/x-python",
   "name": "python",
   "nbconvert_exporter": "python",
   "pygments_lexer": "ipython3",
   "version": "3.12.10"
  }
 },
 "nbformat": 4,
 "nbformat_minor": 2
}
