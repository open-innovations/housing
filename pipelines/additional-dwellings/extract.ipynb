{
 "cells": [
  {
   "cell_type": "code",
   "execution_count": 1,
   "metadata": {},
   "outputs": [],
   "source": [
    "import os\n",
    "os.chdir(\"../..\")\n",
    "from pipelines.utils.util import *"
   ]
  },
  {
   "cell_type": "code",
   "execution_count": 2,
   "metadata": {},
   "outputs": [
    {
     "name": "stdout",
     "output_type": "stream",
     "text": [
      "File LT118.ods downloaded successfully\n",
      "File LT122.ods downloaded successfully\n"
     ]
    },
    {
     "data": {
      "text/plain": [
       "200"
      ]
     },
     "execution_count": 2,
     "metadata": {},
     "output_type": "execute_result"
    }
   ],
   "source": [
    "LT_118_URL = \"https://assets.publishing.service.gov.uk/media/6565f6c68f1f41000dd5d1ea/LT118.ods\"\n",
    "LT_122_URL = \"https://assets.publishing.service.gov.uk/media/6565f75a312f400013e5d4ef/LT122.ods\"\n",
    "\n",
    "download_file(LT_118_URL, 'raw/additional-dwellings', 'LT118.ods')\n",
    "download_file(LT_122_URL, 'raw/additional-dwellings', 'LT122.ods')"
   ]
  }
 ],
 "metadata": {
  "kernelspec": {
   "display_name": "housing-2Roxq_cV",
   "language": "python",
   "name": "python3"
  },
  "language_info": {
   "codemirror_mode": {
    "name": "ipython",
    "version": 3
   },
   "file_extension": ".py",
   "mimetype": "text/x-python",
   "name": "python",
   "nbconvert_exporter": "python",
   "pygments_lexer": "ipython3",
   "version": "3.12.6"
  }
 },
 "nbformat": 4,
 "nbformat_minor": 2
}
