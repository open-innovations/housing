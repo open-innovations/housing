{
 "cells": [
  {
   "cell_type": "code",
   "execution_count": 167,
   "metadata": {},
   "outputs": [
    {
     "data": {
      "text/plain": [
       "PosixPath('/Users/lukestrange/Code/housing')"
      ]
     },
     "execution_count": 167,
     "metadata": {},
     "output_type": "execute_result"
    }
   ],
   "source": [
    "from pathlib import Path\n",
    "import pandas as pd\n",
    "import geopandas as gpd\n",
    "from shapely import wkt\n",
    "\n",
    "ROOT = Path('../..')\n",
    "ROOT.resolve()"
   ]
  },
  {
   "cell_type": "code",
   "execution_count": 168,
   "metadata": {},
   "outputs": [],
   "source": [
    "brownfield_sites = pd.read_csv(ROOT / \"raw/brownfield/brownfield-land.csv\")\n",
    "lad_geojson = pd.read_json(ROOT / \"src/_data/geojson/test.geojson\", orient='columns')"
   ]
  },
  {
   "cell_type": "code",
   "execution_count": 169,
   "metadata": {},
   "outputs": [],
   "source": [
    "def wkt_loads(x):\n",
    "    try:\n",
    "        return wkt.loads(x)\n",
    "    except Exception:\n",
    "        return None"
   ]
  },
  {
   "cell_type": "code",
   "execution_count": 170,
   "metadata": {},
   "outputs": [],
   "source": [
    "# Load the points dataframe (assuming it's a pandas DataFrame)\n",
    "brownfield_sites['geometry'] = brownfield_sites['point'].apply(wkt_loads)\n",
    "points_gdf = gpd.GeoDataFrame(brownfield_sites, geometry='geometry')\n",
    "\n",
    "# Load the polygons GeoJSON\n",
    "polygons_gdf = gpd.read_file(ROOT / 'src/_data/geojson/Local_Authority_Districts_May_2024_Boundaries_UK_BGC_Simplified.json')\n",
    "\n",
    "# Ensure the same CRS\n",
    "points_gdf = points_gdf.set_crs(polygons_gdf.crs, allow_override=True)\n",
    "\n",
    "# Perform spatial join\n",
    "joined_gdf = gpd.sjoin(points_gdf, polygons_gdf, how=\"left\", predicate=\"within\")\n",
    "\n",
    "# Now, joined_gdf will have a 'name' column from the polygons\n",
    "name_counts = joined_gdf[['LAD24NM', 'LAD24CD']].value_counts()\n",
    "name_counts.name = 'sites'"
   ]
  },
  {
   "cell_type": "code",
   "execution_count": 171,
   "metadata": {},
   "outputs": [],
   "source": [
    "joined_gdf = joined_gdf[['LAD24CD', 'LAD24NM', 'hectares', 'maximum-net-dwellings', 'minimum-net-dwellings']].groupby(['LAD24CD', 'LAD24NM']).sum(numeric_only=True).reset_index()\n",
    "joined_gdf = joined_gdf.join(name_counts, on=['LAD24NM', 'LAD24CD'], how='inner')\n",
    "joined_gdf.to_csv(ROOT / 'data/brownfield/sites_by_local_authority.csv', index=False)"
   ]
  }
 ],
 "metadata": {
  "kernelspec": {
   "display_name": "housing-2Roxq_cV",
   "language": "python",
   "name": "python3"
  },
  "language_info": {
   "codemirror_mode": {
    "name": "ipython",
    "version": 3
   },
   "file_extension": ".py",
   "mimetype": "text/x-python",
   "name": "python",
   "nbconvert_exporter": "python",
   "pygments_lexer": "ipython3",
   "version": "3.12.4"
  }
 },
 "nbformat": 4,
 "nbformat_minor": 2
}
