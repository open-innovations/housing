{
 "cells": [
  {
   "cell_type": "code",
   "execution_count": 25,
   "metadata": {},
   "outputs": [
    {
     "data": {
      "text/plain": [
       "PosixPath('/Users/lukestrange/Code/housing')"
      ]
     },
     "execution_count": 25,
     "metadata": {},
     "output_type": "execute_result"
    }
   ],
   "source": [
    "from pathlib import Path\n",
    "import pandas as pd\n",
    "import geopandas as gpd\n",
    "from shapely import wkt\n",
    "\n",
    "ROOT = Path('../..')\n",
    "ROOT.resolve()"
   ]
  },
  {
   "cell_type": "markdown",
   "metadata": {},
   "source": [
    "Load the brownfield data and the local authority district 2023 geojson file. We used the BGC version of the local authority district 2023 geojson file and put it into [Map Shaper](https://mapshaper.org/) to simplify the shapes. We then used our [GeoJSON minifier](https://open-innovations.github.io/geojson-minify/) to reduce the file size."
   ]
  },
  {
   "cell_type": "code",
   "execution_count": 26,
   "metadata": {},
   "outputs": [],
   "source": [
    "brownfield_sites = pd.read_csv(ROOT / \"raw/brownfield/brownfield-land.csv\")\n",
    "lad_geojson = pd.read_json(ROOT / \"src/_data/geojson/Local_Authority_Districts_May_2024_Boundaries_UK_BGC_Simplified.json\", orient='columns')"
   ]
  },
  {
   "cell_type": "markdown",
   "metadata": {},
   "source": [
    "The function below catches errors in the `wkt.loads` function. If that doesn't work, we return `None` so that the rest of our code still runs."
   ]
  },
  {
   "cell_type": "code",
   "execution_count": 27,
   "metadata": {},
   "outputs": [],
   "source": [
    "def wkt_loads(x):\n",
    "    try:\n",
    "        return wkt.loads(x)\n",
    "    except Exception:\n",
    "        return None"
   ]
  },
  {
   "cell_type": "code",
   "execution_count": 28,
   "metadata": {},
   "outputs": [],
   "source": [
    "# Load the points dataframe\n",
    "brownfield_sites['geometry'] = brownfield_sites['point'].apply(wkt_loads)\n",
    "points_gdf = gpd.GeoDataFrame(brownfield_sites, geometry='geometry')\n",
    "\n",
    "# Load the polygons GeoJSON\n",
    "polygons_gdf = gpd.read_file(ROOT / 'src/_data/geojson/Local_Authority_Districts_May_2024_Boundaries_UK_BGC_Simplified.json')\n",
    "\n",
    "# Ensure the same CRS\n",
    "points_gdf = points_gdf.set_crs(polygons_gdf.crs, allow_override=True)\n",
    "\n",
    "# Perform spatial join, checking if \"points\" are within any of the local authority polygons\n",
    "joined_gdf = gpd.sjoin(points_gdf, polygons_gdf, how=\"left\", predicate=\"within\")\n",
    "\n",
    "# Now, joined_gdf will have a 'LAD24CD' and 'LAD24NM' column from the polygons, so we can perform some value counts\n",
    "name_counts = joined_gdf[['LAD24NM', 'LAD24CD']].value_counts()\n",
    "\n",
    "# Rename the series\n",
    "name_counts.name = 'sites'\n",
    "\n",
    "# Filter only the columns we need\n",
    "data = joined_gdf[['LAD24CD', 'LAD24NM', 'hectares', 'maximum-net-dwellings', 'minimum-net-dwellings']]\n",
    "\n",
    "# Group by LAD24CD and LAD24NM and sum the numeric columns\n",
    "data = data.groupby(['LAD24CD', 'LAD24NM']).sum(numeric_only=True).reset_index()\n",
    "\n",
    "# Join frames\n",
    "data = data.join(name_counts, on=['LAD24NM', 'LAD24CD'], how='inner')\n",
    "\n",
    "# Write file\n",
    "data.to_csv(ROOT / 'data/brownfield/sites_by_local_authority.csv', index=False)"
   ]
  },
  {
   "cell_type": "code",
   "execution_count": 29,
   "metadata": {},
   "outputs": [
    {
     "name": "stdout",
     "output_type": "stream",
     "text": [
      "There are 2011 sites that had invalid points and/or were not matched to a local authority.\n"
     ]
    }
   ],
   "source": [
    "print(f\"There are {len(brownfield_sites) - len(joined_gdf['LAD24CD'].dropna())} sites that had invalid points and/or were not matched to a local authority.\")"
   ]
  }
 ],
 "metadata": {
  "kernelspec": {
   "display_name": "housing-2Roxq_cV",
   "language": "python",
   "name": "python3"
  },
  "language_info": {
   "codemirror_mode": {
    "name": "ipython",
    "version": 3
   },
   "file_extension": ".py",
   "mimetype": "text/x-python",
   "name": "python",
   "nbconvert_exporter": "python",
   "pygments_lexer": "ipython3",
   "version": "3.12.4"
  }
 },
 "nbformat": 4,
 "nbformat_minor": 2
}
