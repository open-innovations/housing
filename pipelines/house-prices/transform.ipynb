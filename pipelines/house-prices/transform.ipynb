{
 "cells": [
  {
   "cell_type": "code",
   "execution_count": 1,
   "metadata": {},
   "outputs": [],
   "source": [
    "import pandas as pd\n",
    "import os \n",
    "os.chdir('../..')"
   ]
  },
  {
   "cell_type": "code",
   "execution_count": 2,
   "metadata": {},
   "outputs": [],
   "source": [
    "def clean_data(file, sheet_name, header, skiprows=None):\n",
    "    # Read the excel sheet from file.\n",
    "    data = pd.read_excel(file, sheet_name=sheet_name, header=header, skiprows=skiprows)\n",
    "    # Strip whitespace\n",
    "    data = data.rename(columns=lambda x: x.strip())\n",
    "    # Simplify column names\n",
    "    data = data.rename(columns=lambda x: x.replace('Year ending ', ''))\n",
    "    # Drop un-used columns\n",
    "    if sheet_name == '2a':\n",
    "        data.drop(columns=['Region/Country code', 'Region/Country name', 'Local authority name'], inplace=True)\n",
    "        old_code_name = 'Local authority code'\n",
    "    else:\n",
    "        data.drop(columns='Name', inplace=True)\n",
    "        old_code_name = 'Code'\n",
    "    # Standardise the geo code column name\n",
    "    data.rename(columns={old_code_name: 'geography_code'}, inplace=True)\n",
    "    # Get all columns apart from the geo code\n",
    "    cols = [col for col in data.columns if col != 'geography_code']\n",
    "    # Melt the frame (unpivot) and set the index as the geo code\n",
    "    data = data.melt(id_vars='geography_code', value_vars=cols, var_name='date', value_name='Median (£)').set_index('geography_code')\n",
    "    return data"
   ]
  },
  {
   "cell_type": "code",
   "execution_count": 3,
   "metadata": {},
   "outputs": [],
   "source": [
    "fpath = 'raw/house-prices/hpssadataset9medianpricepaidforadministrativegeographies.xls'"
   ]
  },
  {
   "cell_type": "code",
   "execution_count": 4,
   "metadata": {},
   "outputs": [],
   "source": [
    "la_data = clean_data(fpath, '2a', 6)\n",
    "ca_data = clean_data(fpath, '4a', 6, skiprows=[8,10])\n",
    "reg_nat_data = clean_data(fpath, '1a', 6, skiprows=[8,10])"
   ]
  },
  {
   "cell_type": "code",
   "execution_count": 5,
   "metadata": {},
   "outputs": [],
   "source": [
    "combined = pd.concat([la_data, ca_data, reg_nat_data])"
   ]
  },
  {
   "cell_type": "code",
   "execution_count": 6,
   "metadata": {},
   "outputs": [],
   "source": [
    "combined.to_csv('data/house-prices/median_house_prices.csv')"
   ]
  }
 ],
 "metadata": {
  "kernelspec": {
   "display_name": "Python 3",
   "language": "python",
   "name": "python3"
  },
  "language_info": {
   "codemirror_mode": {
    "name": "ipython",
    "version": 3
   },
   "file_extension": ".py",
   "mimetype": "text/x-python",
   "name": "python",
   "nbconvert_exporter": "python",
   "pygments_lexer": "ipython3",
   "version": "3.12.4"
  }
 },
 "nbformat": 4,
 "nbformat_minor": 2
}
