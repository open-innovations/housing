{
 "cells": [
  {
   "cell_type": "code",
   "execution_count": 1,
   "metadata": {},
   "outputs": [
    {
     "data": {
      "text/plain": [
       "PosixPath('/Users/lukestrange/Code/housing')"
      ]
     },
     "execution_count": 1,
     "metadata": {},
     "output_type": "execute_result"
    }
   ],
   "source": [
    "import pandas as pd\n",
    "from pathlib import Path\n",
    "ROOT = Path('../..')\n",
    "ROOT.resolve()"
   ]
  },
  {
   "cell_type": "code",
   "execution_count": 2,
   "metadata": {},
   "outputs": [],
   "source": [
    "def clean_data(file, sheet_name, header, skiprows=None):\n",
    "    # Read the excel sheet from file.\n",
    "    data = pd.read_excel(file, sheet_name=sheet_name, header=header, skiprows=skiprows)\n",
    "    # Strip whitespace\n",
    "    data = data.rename(columns=lambda x: x.strip())\n",
    "    # Simplify column names\n",
    "    data = data.rename(columns=lambda x: x.replace('Year ending ', ''))\n",
    "    # Drop un-used columns\n",
    "    if sheet_name == '2a':\n",
    "        data.drop(columns=['Region/Country code', 'Region/Country name', 'Local authority name'], inplace=True)\n",
    "        old_code_name = 'Local authority code'\n",
    "    else:\n",
    "        data.drop(columns='Name', inplace=True)\n",
    "        old_code_name = 'Code'\n",
    "    # Standardise the geo code column name\n",
    "    data.rename(columns={old_code_name: 'geography_code'}, inplace=True)\n",
    "    # Get all columns apart from the geo code\n",
    "    cols = [col for col in data.columns if col != 'geography_code']\n",
    "    # Melt the frame (unpivot) and set the index as the geo code\n",
    "    data = data.melt(id_vars='geography_code', value_vars=cols, var_name='date', value_name='Median (£)').set_index('geography_code')\n",
    "    return data"
   ]
  },
  {
   "cell_type": "code",
   "execution_count": 3,
   "metadata": {},
   "outputs": [],
   "source": [
    "fpath = ROOT / 'raw/house-prices/hpssadataset9medianpricepaidforadministrativegeographies.xls'"
   ]
  },
  {
   "cell_type": "code",
   "execution_count": 4,
   "metadata": {},
   "outputs": [],
   "source": [
    "la_data = clean_data(fpath, '2a', 6)\n",
    "ca_data = clean_data(fpath, '4a', 6, skiprows=[8,10])\n",
    "reg_nat_data = clean_data(fpath, '1a', 6, skiprows=[8,10])"
   ]
  },
  {
   "cell_type": "code",
   "execution_count": 5,
   "metadata": {},
   "outputs": [],
   "source": [
    "combined = pd.concat([la_data, ca_data, reg_nat_data])"
   ]
  },
  {
   "cell_type": "code",
   "execution_count": 6,
   "metadata": {},
   "outputs": [],
   "source": [
    "combined.to_csv(ROOT / 'data/house-prices/median_house_prices.csv')\n",
    "combined.to_parquet(ROOT / 'data/house-prices/median_house_prices.parquet')"
   ]
  },
  {
   "cell_type": "code",
   "execution_count": 7,
   "metadata": {},
   "outputs": [
    {
     "data": {
      "text/html": [
       "<div>\n",
       "<style scoped>\n",
       "    .dataframe tbody tr th:only-of-type {\n",
       "        vertical-align: middle;\n",
       "    }\n",
       "\n",
       "    .dataframe tbody tr th {\n",
       "        vertical-align: top;\n",
       "    }\n",
       "\n",
       "    .dataframe thead th {\n",
       "        text-align: right;\n",
       "    }\n",
       "</style>\n",
       "<table border=\"1\" class=\"dataframe\">\n",
       "  <thead>\n",
       "    <tr style=\"text-align: right;\">\n",
       "      <th></th>\n",
       "      <th>date</th>\n",
       "      <th>Median (£)</th>\n",
       "    </tr>\n",
       "    <tr>\n",
       "      <th>geography_code</th>\n",
       "      <th></th>\n",
       "      <th></th>\n",
       "    </tr>\n",
       "  </thead>\n",
       "  <tbody>\n",
       "    <tr>\n",
       "      <th>E06000001</th>\n",
       "      <td>Dec 1995</td>\n",
       "      <td>36500.0</td>\n",
       "    </tr>\n",
       "    <tr>\n",
       "      <th>E06000002</th>\n",
       "      <td>Dec 1995</td>\n",
       "      <td>40000.0</td>\n",
       "    </tr>\n",
       "    <tr>\n",
       "      <th>E06000003</th>\n",
       "      <td>Dec 1995</td>\n",
       "      <td>43000.0</td>\n",
       "    </tr>\n",
       "    <tr>\n",
       "      <th>E06000004</th>\n",
       "      <td>Dec 1995</td>\n",
       "      <td>45250.0</td>\n",
       "    </tr>\n",
       "    <tr>\n",
       "      <th>E06000005</th>\n",
       "      <td>Dec 1995</td>\n",
       "      <td>44000.0</td>\n",
       "    </tr>\n",
       "    <tr>\n",
       "      <th>...</th>\n",
       "      <td>...</td>\n",
       "      <td>...</td>\n",
       "    </tr>\n",
       "    <tr>\n",
       "      <th>E12000006</th>\n",
       "      <td>Mar 2023</td>\n",
       "      <td>342500.0</td>\n",
       "    </tr>\n",
       "    <tr>\n",
       "      <th>E12000007</th>\n",
       "      <td>Mar 2023</td>\n",
       "      <td>535000.0</td>\n",
       "    </tr>\n",
       "    <tr>\n",
       "      <th>E12000008</th>\n",
       "      <td>Mar 2023</td>\n",
       "      <td>385000.0</td>\n",
       "    </tr>\n",
       "    <tr>\n",
       "      <th>E12000009</th>\n",
       "      <td>Mar 2023</td>\n",
       "      <td>310000.0</td>\n",
       "    </tr>\n",
       "    <tr>\n",
       "      <th>W92000004</th>\n",
       "      <td>Mar 2023</td>\n",
       "      <td>200000.0</td>\n",
       "    </tr>\n",
       "  </tbody>\n",
       "</table>\n",
       "<p>38610 rows × 2 columns</p>\n",
       "</div>"
      ],
      "text/plain": [
       "                    date  Median (£)\n",
       "geography_code                      \n",
       "E06000001       Dec 1995     36500.0\n",
       "E06000002       Dec 1995     40000.0\n",
       "E06000003       Dec 1995     43000.0\n",
       "E06000004       Dec 1995     45250.0\n",
       "E06000005       Dec 1995     44000.0\n",
       "...                  ...         ...\n",
       "E12000006       Mar 2023    342500.0\n",
       "E12000007       Mar 2023    535000.0\n",
       "E12000008       Mar 2023    385000.0\n",
       "E12000009       Mar 2023    310000.0\n",
       "W92000004       Mar 2023    200000.0\n",
       "\n",
       "[38610 rows x 2 columns]"
      ]
     },
     "execution_count": 7,
     "metadata": {},
     "output_type": "execute_result"
    }
   ],
   "source": [
    "combined"
   ]
  }
 ],
 "metadata": {
  "kernelspec": {
   "display_name": "Python 3",
   "language": "python",
   "name": "python3"
  },
  "language_info": {
   "codemirror_mode": {
    "name": "ipython",
    "version": 3
   },
   "file_extension": ".py",
   "mimetype": "text/x-python",
   "name": "python",
   "nbconvert_exporter": "python",
   "pygments_lexer": "ipython3",
   "version": "3.12.4"
  }
 },
 "nbformat": 4,
 "nbformat_minor": 2
}
