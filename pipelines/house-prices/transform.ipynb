{
 "cells": [
  {
   "cell_type": "code",
   "execution_count": 1,
   "metadata": {},
   "outputs": [
    {
     "data": {
      "text/plain": [
       "PosixPath('/Users/lukestrange/Code/housing')"
      ]
     },
     "execution_count": 1,
     "metadata": {},
     "output_type": "execute_result"
    }
   ],
   "source": [
    "from pathlib import Path\n",
    "import pandas as pd\n",
    "ROOT = Path('../..')\n",
    "ROOT.resolve()"
   ]
  },
  {
   "cell_type": "code",
   "execution_count": 2,
   "metadata": {},
   "outputs": [],
   "source": [
    "def clean_data(file, sheet_name, header, skiprows=None):\n",
    "    # Read the excel sheet from file.\n",
    "    data = pd.read_excel(file, sheet_name=sheet_name, header=header, skiprows=skiprows)\n",
    "    # Strip whitespace\n",
    "    data = data.rename(columns=lambda x: x.strip())\n",
    "    # Simplify column names\n",
    "    data = data.rename(columns=lambda x: x.replace('Year ending ', ''))\n",
    "    # Drop un-used columns\n",
    "    if sheet_name == '2a':\n",
    "        data.drop(columns=['Region/Country code', 'Region/Country name'], inplace=True)\n",
    "        old_code_title = 'Local authority code'\n",
    "        old_name_title = 'Local authority name'\n",
    "    else:\n",
    "        old_code_title = 'Code'\n",
    "        old_name_title = 'Name'\n",
    "    # Standardise the geo code column name\n",
    "    data.rename(columns={old_code_title: 'geography_code', old_name_title: 'geography_name'}, inplace=True)\n",
    "    # Get all columns apart from the geo code\n",
    "    cols = [col for col in data.columns if col not in ['geography_code', 'geography_name']]\n",
    "    # Melt the frame (unpivot) and set the index as the geo code\n",
    "    data = data.melt(id_vars=['geography_code', 'geography_name'], value_vars=cols, var_name='date', value_name='Median').set_index('geography_code')\n",
    "    return data"
   ]
  },
  {
   "cell_type": "code",
   "execution_count": 3,
   "metadata": {},
   "outputs": [],
   "source": [
    "fpath = ROOT / 'raw/house-prices/medianhousepricesforadministrativegeographies.xlsx'"
   ]
  },
  {
   "cell_type": "code",
   "execution_count": 4,
   "metadata": {},
   "outputs": [],
   "source": [
    "la_data = clean_data(fpath, '2a', 2)\n",
    "ca_data = clean_data(fpath, '4a', 2)\n",
    "reg_nat_data = clean_data(fpath, '1a', 2)"
   ]
  },
  {
   "cell_type": "code",
   "execution_count": 5,
   "metadata": {},
   "outputs": [],
   "source": [
    "combined_wide = pd.concat([la_data, ca_data, reg_nat_data])"
   ]
  },
  {
   "cell_type": "code",
   "execution_count": 6,
   "metadata": {},
   "outputs": [],
   "source": [
    "combined_wide.to_parquet(ROOT / 'data/house-prices/site/median_house_prices.parquet')"
   ]
  },
  {
   "cell_type": "code",
   "execution_count": 7,
   "metadata": {},
   "outputs": [],
   "source": [
    "combined_wide['Measure'] = 'Median'\n",
    "combined_long = combined_wide.rename(columns={'Median': 'value'})\n",
    "combined_long.to_csv(ROOT / 'data/house-prices/standard/median_house_prices.csv')"
   ]
  }
 ],
 "metadata": {
  "kernelspec": {
   "display_name": "housing-2Roxq_cV",
   "language": "python",
   "name": "python3"
  },
  "language_info": {
   "codemirror_mode": {
    "name": "ipython",
    "version": 3
   },
   "file_extension": ".py",
   "mimetype": "text/x-python",
   "name": "python",
   "nbconvert_exporter": "python",
   "pygments_lexer": "ipython3",
   "version": "3.12.7"
  }
 },
 "nbformat": 4,
 "nbformat_minor": 2
}
