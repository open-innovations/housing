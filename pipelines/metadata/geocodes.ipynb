{
 "cells": [
  {
   "cell_type": "code",
   "execution_count": 1,
   "metadata": {},
   "outputs": [
    {
     "data": {
      "text/plain": [
       "PosixPath('/Users/lukestrange/Code/housing')"
      ]
     },
     "execution_count": 1,
     "metadata": {},
     "output_type": "execute_result"
    }
   ],
   "source": [
    "import duckdb as db\n",
    "import pandas as pd\n",
    "from pathlib import Path\n",
    "ROOT = Path('../..')\n",
    "ROOT.resolve()\n"
   ]
  },
  {
   "cell_type": "code",
   "execution_count": 2,
   "metadata": {},
   "outputs": [],
   "source": [
    "# Connect duckDB\n",
    "con = db.connect()\n",
    "# Make an empty dataframe to store all the data\n",
    "data = []\n",
    "# Loop through the codes we need\n",
    "for i in ['E06', 'E07', 'E08', 'E09', 'E10', 'E11', 'E12', 'E47', 'E92']:\n",
    "    # Read the files from GitHub\n",
    "    codes = con.sql(f\"SELECT * FROM read_json('https://github.com/open-innovations/geography-code-adder/raw/main/docs/data/{i}.json')\").df()\n",
    "    areas = codes.areas.values[0]\n",
    "    # print(areas)\n",
    "    # Get areas and descriptions\n",
    "    # areas = codes.areas.values[0]\n",
    "    # desc = codes.description.values[0]\n",
    "    d = pd.DataFrame.from_dict(areas, orient='index')\n",
    "    # Combine the frames\n",
    "    # combined = pd.concat([combined, d], axis=0)\n",
    "    data.append(d)\n",
    "    \n",
    "combined = pd.concat(data).drop(columns=[1, 2]) # Not too sure why we're getting these extra cols but they don't have anything in them anyway.\n",
    "combined.rename(columns={0: 'content'}, inplace=True)"
   ]
  },
  {
   "cell_type": "code",
   "execution_count": 3,
   "metadata": {},
   "outputs": [],
   "source": [
    "def rename_date(my_dict):\n",
    "    # Rename the key \"date\" to \"dt\"\n",
    "    if \"date\" in my_dict:\n",
    "        my_dict[\"dt\"] = my_dict.pop(\"date\")\n",
    "    return my_dict\n",
    "\n",
    "combined['content'] = combined['content'].apply(rename_date)"
   ]
  },
  {
   "cell_type": "code",
   "execution_count": 4,
   "metadata": {},
   "outputs": [],
   "source": [
    "combined.to_json(ROOT / 'src/data/areas/place-page/_data/areas.json', orient='index', indent=4)"
   ]
  }
 ],
 "metadata": {
  "kernelspec": {
   "display_name": "housing-2Roxq_cV",
   "language": "python",
   "name": "python3"
  },
  "language_info": {
   "codemirror_mode": {
    "name": "ipython",
    "version": 3
   },
   "file_extension": ".py",
   "mimetype": "text/x-python",
   "name": "python",
   "nbconvert_exporter": "python",
   "pygments_lexer": "ipython3",
   "version": "3.12.4"
  }
 },
 "nbformat": 4,
 "nbformat_minor": 2
}
