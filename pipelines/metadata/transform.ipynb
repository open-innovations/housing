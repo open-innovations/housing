{
 "cells": [
  {
   "cell_type": "markdown",
   "metadata": {},
   "source": [
    "- The geography tree is as follows: LADs/Met counties/counties/combined authorities => Regions => England/Wales/Scotland/NI. \n",
    "- Lookups for the most recent names and codes of these geographies have been downloaded into `data/lookups`.\n",
    "- To generate a list of active geographies we combined all of these lookups into a single file with the column titles `geography_code` and `geography_name`. This is temporarily stored in `metadata/temp`.\n",
    "- Each data set may contain some/all or none of these geographies. Per dataset, we iterate through each file's unique geographies and check if they are in the list of active codes. If they are not, we add them to a list of inactive codes stored in `metadata/temp`.\n",
    "- For all geographies we determine when data was first and last published per dataset.\n",
    "- This is stored in a `JSON` file in `src/data/areas/place-page/_data/metadata.json` and used to generate the site."
   ]
  },
  {
   "cell_type": "markdown",
   "metadata": {},
   "source": [
    "Import modules and set up paths for reading and writing files"
   ]
  },
  {
   "cell_type": "code",
   "execution_count": 7,
   "metadata": {},
   "outputs": [
    {
     "data": {
      "text/plain": [
       "PosixPath('/Users/lukestrange/Code/housing')"
      ]
     },
     "execution_count": 7,
     "metadata": {},
     "output_type": "execute_result"
    }
   ],
   "source": [
    "from pathlib import Path\n",
    "import pandas as pd\n",
    "ROOT = Path('../..')\n",
    "ROOT.resolve()"
   ]
  },
  {
   "cell_type": "code",
   "execution_count": 8,
   "metadata": {},
   "outputs": [
    {
     "data": {
      "text/plain": [
       "336"
      ]
     },
     "execution_count": 8,
     "metadata": {},
     "output_type": "execute_result"
    }
   ],
   "source": [
    "frame = pd.DataFrame()\n",
    "paths = [\n",
    "    \"metadata/lookups/Local_Authority_Districts_(April_2023)_Names_and_Codes_in_the_United_Kingdom.csv\", \n",
    "    \"metadata/lookups/Metropolitan_Counties_(December_2023)_Names_and_Codes_in_EN.csv\", \n",
    "    \"metadata/lookups/Regions_(December_2023)_Names_and_Codes_in_EN.csv\",\n",
    "    \"metadata/lookups/Combined_Authorities_(May_2024)_Names_and_Codes_in_England.csv\",\n",
    "    \"metadata/lookups/Counties_(April_2023)_Names_and_Codes_in_EN.csv\"\n",
    "    ]\n",
    "for path in paths:\n",
    "    data = pd.read_csv(ROOT / path)\n",
    "    code_name = data.columns[data.columns.str.endswith('CD')].values[0]\n",
    "    geo_name = data.columns[data.columns.str.endswith('NM')].values[0]\n",
    "    data.rename(columns={f'{code_name}': 'geography_code', f'{geo_name}': 'geography_name'}, inplace=True)\n",
    "    data = data[['geography_code', 'geography_name']]\n",
    "    frame = pd.concat([frame, data])\n",
    "\n",
    "frame = frame[~frame['geography_code'].str.startswith(('W', 'S', 'N'))]\n",
    "frame.reset_index(inplace=True, drop=True)\n",
    "frame['active'] = 'true'\n",
    "frame.set_index('geography_code', inplace=True)\n",
    "frame.to_json(ROOT / 'metadata/temp/active_geographies.json', orient='index', indent=4)\n",
    "\n",
    "len(frame.geography_name.unique())"
   ]
  },
  {
   "cell_type": "code",
   "execution_count": 9,
   "metadata": {},
   "outputs": [],
   "source": [
    "p = pd.read_csv(ROOT / 'data/vacant-homes/absolute.csv')\n",
    "p = p[p.Year == max(p.Year)]"
   ]
  },
  {
   "cell_type": "code",
   "execution_count": 10,
   "metadata": {},
   "outputs": [
    {
     "name": "stdout",
     "output_type": "stream",
     "text": [
      "E06000028\n",
      "E06000029\n",
      "E07000004\n",
      "E07000005\n",
      "E07000006\n",
      "E07000007\n",
      "E07000026\n",
      "E07000027\n",
      "E07000028\n",
      "E07000029\n",
      "E07000030\n",
      "E07000031\n",
      "E07000048\n",
      "E07000049\n",
      "E07000050\n",
      "E07000051\n",
      "E07000052\n",
      "E07000053\n",
      "E07000150\n",
      "E07000151\n",
      "E07000152\n",
      "E07000153\n",
      "E07000154\n",
      "E07000155\n",
      "E07000156\n",
      "E07000163\n",
      "E07000164\n",
      "E07000165\n",
      "E07000166\n",
      "E07000167\n",
      "E07000168\n",
      "E07000169\n",
      "E07000187\n",
      "E07000188\n",
      "E07000189\n",
      "E07000190\n",
      "E07000191\n",
      "E07000201\n",
      "E07000204\n",
      "E07000205\n",
      "E07000206\n",
      "E07000246\n",
      "E10000002\n",
      "E10000006\n",
      "E10000009\n",
      "E10000021\n",
      "E10000023\n",
      "E10000027\n",
      "E11000004\n",
      "E92000001\n"
     ]
    }
   ],
   "source": [
    "len(p.AreaCode.unique())\n",
    "for i in p.AreaCode.unique():\n",
    "    if i not in frame.index.unique():\n",
    "        print(i) # This is a list of inactive codes that were in the vacant-homes data."
   ]
  },
  {
   "cell_type": "code",
   "execution_count": null,
   "metadata": {},
   "outputs": [],
   "source": []
  }
 ],
 "metadata": {
  "kernelspec": {
   "display_name": "housing-2Roxq_cV",
   "language": "python",
   "name": "python3"
  },
  "language_info": {
   "codemirror_mode": {
    "name": "ipython",
    "version": 3
   },
   "file_extension": ".py",
   "mimetype": "text/x-python",
   "name": "python",
   "nbconvert_exporter": "python",
   "pygments_lexer": "ipython3",
   "version": "3.12.4"
  }
 },
 "nbformat": 4,
 "nbformat_minor": 2
}
