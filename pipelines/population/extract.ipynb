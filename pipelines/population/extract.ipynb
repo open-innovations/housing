{
 "cells": [
  {
   "cell_type": "markdown",
   "metadata": {},
   "source": [
    "# TODO\n",
    "Add extract stage for what was a manual table build. Use nomis API.\n",
    "\n",
    "This is a link to the dataset - <https://www.nomisweb.co.uk/query/construct/summary.asp?menuopt=200&subcomp=>"
   ]
  }
 ],
 "metadata": {
  "language_info": {
   "name": "python"
  }
 },
 "nbformat": 4,
 "nbformat_minor": 2
}
